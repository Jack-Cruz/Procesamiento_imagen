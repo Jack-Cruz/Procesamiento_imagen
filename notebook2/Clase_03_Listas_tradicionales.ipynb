{
  "nbformat": 4,
  "nbformat_minor": 0,
  "metadata": {
    "colab": {
      "name": "Clase 03 - Listas tradicionales",
      "provenance": [],
      "collapsed_sections": [],
      "authorship_tag": "ABX9TyNBG3kBlRZFYqI5yS6XbyU0",
      "include_colab_link": true
    },
    "kernelspec": {
      "name": "python3",
      "display_name": "Python 3"
    },
    "language_info": {
      "name": "python"
    }
  },
  "cells": [
    {
      "cell_type": "markdown",
      "metadata": {
        "id": "view-in-github",
        "colab_type": "text"
      },
      "source": [
        "<a href=\"https://colab.research.google.com/github/Jack-Cruz/Procesamiento_imagen/blob/main/notebook2/Clase_03_Listas_tradicionales.ipynb\" target=\"_parent\"><img src=\"https://colab.research.google.com/assets/colab-badge.svg\" alt=\"Open In Colab\"/></a>"
      ]
    },
    {
      "cell_type": "markdown",
      "metadata": {
        "id": "dDCgoa-2i1E6"
      },
      "source": [
        "# Listas tradicionales"
      ]
    },
    {
      "cell_type": "markdown",
      "metadata": {
        "id": "KKGFYJD8jXki"
      },
      "source": [
        "Forma literal"
      ]
    },
    {
      "cell_type": "code",
      "metadata": {
        "id": "S4cre46qi34U"
      },
      "source": [
        "a = [1, 2, 3, 4, 5, 6]"
      ],
      "execution_count": 1,
      "outputs": []
    },
    {
      "cell_type": "markdown",
      "metadata": {
        "id": "DFDfj85ijZph"
      },
      "source": [
        "Agregando elementos"
      ]
    },
    {
      "cell_type": "code",
      "metadata": {
        "id": "MIqZBzspi7Rf"
      },
      "source": [
        "b = []\n",
        "for i in range(6):\n",
        "  b.append(i + 1)"
      ],
      "execution_count": 2,
      "outputs": []
    },
    {
      "cell_type": "code",
      "metadata": {
        "id": "JudERXpxi_bK"
      },
      "source": [
        "assert a == b"
      ],
      "execution_count": 3,
      "outputs": []
    },
    {
      "cell_type": "markdown",
      "metadata": {
        "id": "MPcjLWz1jcg5"
      },
      "source": [
        "Comprehension"
      ]
    },
    {
      "cell_type": "code",
      "metadata": {
        "colab": {
          "base_uri": "https://localhost:8080/"
        },
        "id": "kTZkUYz_jDPi",
        "outputId": "db9eefed-9d96-448c-fa35-1e2c6f5ab9ff"
      },
      "source": [
        "c = [i + 1 for i in range(6)]\n",
        "c"
      ],
      "execution_count": 4,
      "outputs": [
        {
          "output_type": "execute_result",
          "data": {
            "text/plain": [
              "[1, 2, 3, 4, 5, 6]"
            ]
          },
          "metadata": {},
          "execution_count": 4
        }
      ]
    },
    {
      "cell_type": "markdown",
      "metadata": {
        "id": "OOH0LjyBjjyI"
      },
      "source": [
        "Casting"
      ]
    },
    {
      "cell_type": "code",
      "metadata": {
        "colab": {
          "base_uri": "https://localhost:8080/"
        },
        "id": "zF95lEK8jHPq",
        "outputId": "867c00f9-6f44-4d63-a271-d79c96767622"
      },
      "source": [
        "d = list(range(1, 7))\n",
        "d"
      ],
      "execution_count": 5,
      "outputs": [
        {
          "output_type": "execute_result",
          "data": {
            "text/plain": [
              "[1, 2, 3, 4, 5, 6]"
            ]
          },
          "metadata": {},
          "execution_count": 5
        }
      ]
    },
    {
      "cell_type": "code",
      "metadata": {
        "id": "MXZLjNVwjKXo"
      },
      "source": [
        "def mirange(n):\n",
        "  i = 0\n",
        "  while i < n:\n",
        "    yield i\n",
        "    i += 1"
      ],
      "execution_count": 11,
      "outputs": []
    },
    {
      "cell_type": "code",
      "metadata": {
        "colab": {
          "base_uri": "https://localhost:8080/"
        },
        "id": "3n9M-Dcvj_Yf",
        "outputId": "208ac163-2052-4cbd-9279-16e43128a5f7"
      },
      "source": [
        "mirange(10)"
      ],
      "execution_count": 12,
      "outputs": [
        {
          "output_type": "execute_result",
          "data": {
            "text/plain": [
              "<generator object mirange at 0x7fae2ff82650>"
            ]
          },
          "metadata": {},
          "execution_count": 12
        }
      ]
    },
    {
      "cell_type": "code",
      "metadata": {
        "colab": {
          "base_uri": "https://localhost:8080/"
        },
        "id": "92QZwzKEkBep",
        "outputId": "5ab5765e-3a28-4cfc-d574-bcb068fbf68f"
      },
      "source": [
        "gen1 = mirange(5)\n",
        "gen1"
      ],
      "execution_count": 13,
      "outputs": [
        {
          "output_type": "execute_result",
          "data": {
            "text/plain": [
              "<generator object mirange at 0x7fae2ff20ed0>"
            ]
          },
          "metadata": {},
          "execution_count": 13
        }
      ]
    },
    {
      "cell_type": "code",
      "metadata": {
        "colab": {
          "base_uri": "https://localhost:8080/"
        },
        "id": "0SoHjM7IkEhp",
        "outputId": "6c2a4025-08b1-4d09-95da-3cfdf331dd34"
      },
      "source": [
        "next(gen1)"
      ],
      "execution_count": 14,
      "outputs": [
        {
          "output_type": "execute_result",
          "data": {
            "text/plain": [
              "0"
            ]
          },
          "metadata": {},
          "execution_count": 14
        }
      ]
    },
    {
      "cell_type": "code",
      "metadata": {
        "colab": {
          "base_uri": "https://localhost:8080/"
        },
        "id": "xm7JoDRzkHgh",
        "outputId": "59ec09f3-fcef-418b-ab1d-85e842bd6e2a"
      },
      "source": [
        "next(gen1)"
      ],
      "execution_count": 15,
      "outputs": [
        {
          "output_type": "execute_result",
          "data": {
            "text/plain": [
              "1"
            ]
          },
          "metadata": {},
          "execution_count": 15
        }
      ]
    },
    {
      "cell_type": "code",
      "metadata": {
        "colab": {
          "base_uri": "https://localhost:8080/"
        },
        "id": "Vq7K1R1bkk9E",
        "outputId": "a23ff3e7-32fd-472d-9fc5-f6be673bf1d8"
      },
      "source": [
        "for i in mirange(7):\n",
        "  print(i)"
      ],
      "execution_count": 18,
      "outputs": [
        {
          "output_type": "stream",
          "name": "stdout",
          "text": [
            "0\n",
            "1\n",
            "2\n",
            "3\n",
            "4\n",
            "5\n",
            "6\n"
          ]
        }
      ]
    },
    {
      "cell_type": "code",
      "metadata": {
        "id": "mFz-hkpGkngx"
      },
      "source": [
        "def otroRange(ini, n, inc = 1):\n",
        "  i = ini\n",
        "  while i < n:\n",
        "    yield i\n",
        "    i += inc"
      ],
      "execution_count": 23,
      "outputs": []
    },
    {
      "cell_type": "code",
      "metadata": {
        "colab": {
          "base_uri": "https://localhost:8080/"
        },
        "id": "TU6o9hpZlBGK",
        "outputId": "e2f0a1ae-d58b-4d7f-9638-50d398ea5488"
      },
      "source": [
        "e = list(otroRange(1, 7, 2))\n",
        "e"
      ],
      "execution_count": 24,
      "outputs": [
        {
          "output_type": "execute_result",
          "data": {
            "text/plain": [
              "[1, 3, 5]"
            ]
          },
          "metadata": {},
          "execution_count": 24
        }
      ]
    },
    {
      "cell_type": "markdown",
      "metadata": {
        "id": "5g-yEx5VlEeZ"
      },
      "source": [
        "## Accesing"
      ]
    },
    {
      "cell_type": "markdown",
      "metadata": {
        "id": "YRBfEn0VlyXx"
      },
      "source": [
        "Primer elemento"
      ]
    },
    {
      "cell_type": "code",
      "metadata": {
        "colab": {
          "base_uri": "https://localhost:8080/"
        },
        "id": "J6GyHWWPlX9h",
        "outputId": "5b777f99-27b7-4101-b870-48baee245e69"
      },
      "source": [
        "e[0]"
      ],
      "execution_count": 25,
      "outputs": [
        {
          "output_type": "execute_result",
          "data": {
            "text/plain": [
              "1"
            ]
          },
          "metadata": {},
          "execution_count": 25
        }
      ]
    },
    {
      "cell_type": "markdown",
      "metadata": {
        "id": "UutFcP3il1dS"
      },
      "source": [
        "Tercer elemento"
      ]
    },
    {
      "cell_type": "code",
      "metadata": {
        "colab": {
          "base_uri": "https://localhost:8080/"
        },
        "id": "O-DVbaNJlZEZ",
        "outputId": "a90dd652-2f70-4aef-ee32-6cbe35bdcd4e"
      },
      "source": [
        "e[2]"
      ],
      "execution_count": 26,
      "outputs": [
        {
          "output_type": "execute_result",
          "data": {
            "text/plain": [
              "5"
            ]
          },
          "metadata": {},
          "execution_count": 26
        }
      ]
    },
    {
      "cell_type": "markdown",
      "metadata": {
        "id": "taWOfS5Dl5QJ"
      },
      "source": [
        "Último elemento"
      ]
    },
    {
      "cell_type": "code",
      "metadata": {
        "colab": {
          "base_uri": "https://localhost:8080/"
        },
        "id": "-6cSMAXRlZwp",
        "outputId": "38d83a29-96b0-49f6-d82e-8dca319a5165"
      },
      "source": [
        "e[-1]"
      ],
      "execution_count": 27,
      "outputs": [
        {
          "output_type": "execute_result",
          "data": {
            "text/plain": [
              "5"
            ]
          },
          "metadata": {},
          "execution_count": 27
        }
      ]
    },
    {
      "cell_type": "markdown",
      "metadata": {
        "id": "JmRmLmjZl7fB"
      },
      "source": [
        "Penúltimo elemento"
      ]
    },
    {
      "cell_type": "code",
      "metadata": {
        "colab": {
          "base_uri": "https://localhost:8080/"
        },
        "id": "WBXhaVJala4R",
        "outputId": "7127385d-3d62-4613-8b3a-8431d38c84ba"
      },
      "source": [
        "e[-2]"
      ],
      "execution_count": 28,
      "outputs": [
        {
          "output_type": "execute_result",
          "data": {
            "text/plain": [
              "3"
            ]
          },
          "metadata": {},
          "execution_count": 28
        }
      ]
    },
    {
      "cell_type": "code",
      "metadata": {
        "colab": {
          "base_uri": "https://localhost:8080/"
        },
        "id": "ktjGjOAllbhp",
        "outputId": "759aab4a-db78-4ed3-a4c2-391baf815c23"
      },
      "source": [
        "n = len(e)\n",
        "e[-n]"
      ],
      "execution_count": 29,
      "outputs": [
        {
          "output_type": "execute_result",
          "data": {
            "text/plain": [
              "1"
            ]
          },
          "metadata": {},
          "execution_count": 29
        }
      ]
    },
    {
      "cell_type": "code",
      "metadata": {
        "colab": {
          "base_uri": "https://localhost:8080/"
        },
        "id": "zm7hSw63mB75",
        "outputId": "4ff02d94-5868-4203-97e6-da922dc1c465"
      },
      "source": [
        "e[n-1]"
      ],
      "execution_count": 30,
      "outputs": [
        {
          "output_type": "execute_result",
          "data": {
            "text/plain": [
              "5"
            ]
          },
          "metadata": {},
          "execution_count": 30
        }
      ]
    },
    {
      "cell_type": "markdown",
      "metadata": {
        "id": "D9wQ9ftXmJqj"
      },
      "source": [
        "## Slicing"
      ]
    },
    {
      "cell_type": "code",
      "metadata": {
        "colab": {
          "base_uri": "https://localhost:8080/"
        },
        "id": "mEUu457zmLDB",
        "outputId": "c8506c5b-0054-4015-e424-f73f11e058a2"
      },
      "source": [
        "a = list(range(15))\n",
        "a"
      ],
      "execution_count": 40,
      "outputs": [
        {
          "output_type": "execute_result",
          "data": {
            "text/plain": [
              "[0, 1, 2, 3, 4, 5, 6, 7, 8, 9, 10, 11, 12, 13, 14]"
            ]
          },
          "metadata": {},
          "execution_count": 40
        }
      ]
    },
    {
      "cell_type": "code",
      "metadata": {
        "colab": {
          "base_uri": "https://localhost:8080/"
        },
        "id": "PfiG7SmgmF-i",
        "outputId": "9b6f2205-6681-4257-b901-2a67d53b1ca4"
      },
      "source": [
        "a[5:10]"
      ],
      "execution_count": 41,
      "outputs": [
        {
          "output_type": "execute_result",
          "data": {
            "text/plain": [
              "[5, 6, 7, 8, 9]"
            ]
          },
          "metadata": {},
          "execution_count": 41
        }
      ]
    },
    {
      "cell_type": "code",
      "metadata": {
        "colab": {
          "base_uri": "https://localhost:8080/"
        },
        "id": "WcRTZwIim7-Z",
        "outputId": "c808c1fb-d078-4d22-f717-cad60a50d291"
      },
      "source": [
        "a[0:5]"
      ],
      "execution_count": 42,
      "outputs": [
        {
          "output_type": "execute_result",
          "data": {
            "text/plain": [
              "[0, 1, 2, 3, 4]"
            ]
          },
          "metadata": {},
          "execution_count": 42
        }
      ]
    },
    {
      "cell_type": "code",
      "metadata": {
        "colab": {
          "base_uri": "https://localhost:8080/"
        },
        "id": "BxYqlHahnFcp",
        "outputId": "9a9adab8-b57d-458f-f9dc-53c577f17f00"
      },
      "source": [
        "a[:5]"
      ],
      "execution_count": 43,
      "outputs": [
        {
          "output_type": "execute_result",
          "data": {
            "text/plain": [
              "[0, 1, 2, 3, 4]"
            ]
          },
          "metadata": {},
          "execution_count": 43
        }
      ]
    },
    {
      "cell_type": "code",
      "metadata": {
        "colab": {
          "base_uri": "https://localhost:8080/"
        },
        "id": "EZ6jwmRLnHHL",
        "outputId": "02eb70c9-bfec-4b15-c3c1-5e57ead67536"
      },
      "source": [
        "a[10:15]"
      ],
      "execution_count": 44,
      "outputs": [
        {
          "output_type": "execute_result",
          "data": {
            "text/plain": [
              "[10, 11, 12, 13, 14]"
            ]
          },
          "metadata": {},
          "execution_count": 44
        }
      ]
    },
    {
      "cell_type": "code",
      "metadata": {
        "colab": {
          "base_uri": "https://localhost:8080/"
        },
        "id": "j0aGti5NnKbB",
        "outputId": "1a32b4b1-8080-4e71-f776-b3ae19e462e6"
      },
      "source": [
        "a[10:]"
      ],
      "execution_count": 45,
      "outputs": [
        {
          "output_type": "execute_result",
          "data": {
            "text/plain": [
              "[10, 11, 12, 13, 14]"
            ]
          },
          "metadata": {},
          "execution_count": 45
        }
      ]
    },
    {
      "cell_type": "code",
      "metadata": {
        "colab": {
          "base_uri": "https://localhost:8080/"
        },
        "id": "TUnEjqtHnLwp",
        "outputId": "ab64acd7-19fe-4294-cff2-fd352d82e398"
      },
      "source": [
        "a[:]"
      ],
      "execution_count": 46,
      "outputs": [
        {
          "output_type": "execute_result",
          "data": {
            "text/plain": [
              "[0, 1, 2, 3, 4, 5, 6, 7, 8, 9, 10, 11, 12, 13, 14]"
            ]
          },
          "metadata": {},
          "execution_count": 46
        }
      ]
    },
    {
      "cell_type": "code",
      "metadata": {
        "colab": {
          "base_uri": "https://localhost:8080/"
        },
        "id": "qj0OmRiunSip",
        "outputId": "73180392-33a0-4514-9d01-8588a6255337"
      },
      "source": [
        "b = a[5:10]\n",
        "b"
      ],
      "execution_count": 48,
      "outputs": [
        {
          "output_type": "execute_result",
          "data": {
            "text/plain": [
              "[5, 6, 7, 8, 9]"
            ]
          },
          "metadata": {},
          "execution_count": 48
        }
      ]
    },
    {
      "cell_type": "code",
      "metadata": {
        "colab": {
          "base_uri": "https://localhost:8080/"
        },
        "id": "JLLkERdenVwp",
        "outputId": "e6a9fea7-ea46-4c62-b0de-b937a447f48e"
      },
      "source": [
        "b[0]"
      ],
      "execution_count": 49,
      "outputs": [
        {
          "output_type": "execute_result",
          "data": {
            "text/plain": [
              "5"
            ]
          },
          "metadata": {},
          "execution_count": 49
        }
      ]
    },
    {
      "cell_type": "code",
      "metadata": {
        "colab": {
          "base_uri": "https://localhost:8080/"
        },
        "id": "9OnkqTyWnYaf",
        "outputId": "9e785b17-94fe-4bdb-c0fa-a1a9cf986772"
      },
      "source": [
        "b[0] = 100\n",
        "b"
      ],
      "execution_count": 50,
      "outputs": [
        {
          "output_type": "execute_result",
          "data": {
            "text/plain": [
              "[100, 6, 7, 8, 9]"
            ]
          },
          "metadata": {},
          "execution_count": 50
        }
      ]
    },
    {
      "cell_type": "code",
      "metadata": {
        "colab": {
          "base_uri": "https://localhost:8080/"
        },
        "id": "DwoaWgw0nbop",
        "outputId": "c98fcbec-5c6c-429e-d35f-05262934cade"
      },
      "source": [
        "a"
      ],
      "execution_count": 51,
      "outputs": [
        {
          "output_type": "execute_result",
          "data": {
            "text/plain": [
              "[0, 1, 2, 3, 4, 5, 6, 7, 8, 9, 10, 11, 12, 13, 14]"
            ]
          },
          "metadata": {},
          "execution_count": 51
        }
      ]
    },
    {
      "cell_type": "code",
      "metadata": {
        "colab": {
          "base_uri": "https://localhost:8080/"
        },
        "id": "S2p06ad1ncXV",
        "outputId": "4605fa6e-4294-45af-d1b7-cfb32949e5a2"
      },
      "source": [
        "c = a\n",
        "c"
      ],
      "execution_count": 53,
      "outputs": [
        {
          "output_type": "execute_result",
          "data": {
            "text/plain": [
              "[0, 1, 2, 3, 4, 5, 6, 7, 8, 9, 10, 11, 12, 13, 14]"
            ]
          },
          "metadata": {},
          "execution_count": 53
        }
      ]
    },
    {
      "cell_type": "code",
      "metadata": {
        "colab": {
          "base_uri": "https://localhost:8080/"
        },
        "id": "k5P8uVAonlwo",
        "outputId": "52e835c5-df89-4e0d-c4ff-d490be6c7d65"
      },
      "source": [
        "c[10] = 100\n",
        "c"
      ],
      "execution_count": 54,
      "outputs": [
        {
          "output_type": "execute_result",
          "data": {
            "text/plain": [
              "[0, 1, 2, 3, 4, 5, 6, 7, 8, 9, 100, 11, 12, 13, 14]"
            ]
          },
          "metadata": {},
          "execution_count": 54
        }
      ]
    },
    {
      "cell_type": "code",
      "metadata": {
        "colab": {
          "base_uri": "https://localhost:8080/"
        },
        "id": "R6aQE117no7b",
        "outputId": "062a2015-9f53-434e-b65f-e181ac6fbb87"
      },
      "source": [
        "a"
      ],
      "execution_count": 55,
      "outputs": [
        {
          "output_type": "execute_result",
          "data": {
            "text/plain": [
              "[0, 1, 2, 3, 4, 5, 6, 7, 8, 9, 100, 11, 12, 13, 14]"
            ]
          },
          "metadata": {},
          "execution_count": 55
        }
      ]
    },
    {
      "cell_type": "code",
      "metadata": {
        "colab": {
          "base_uri": "https://localhost:8080/"
        },
        "id": "sG-lTPa_npIx",
        "outputId": "7d24e120-60f9-4863-d67e-f942769a6548"
      },
      "source": [
        "d = a[:]\n",
        "d"
      ],
      "execution_count": 58,
      "outputs": [
        {
          "output_type": "execute_result",
          "data": {
            "text/plain": [
              "[0, 1, 2, 3, 4, 5, 6, 7, 8, 9, 100, 11, 12, 13, 14]"
            ]
          },
          "metadata": {},
          "execution_count": 58
        }
      ]
    },
    {
      "cell_type": "code",
      "metadata": {
        "colab": {
          "base_uri": "https://localhost:8080/"
        },
        "id": "i9GRtJepnwN1",
        "outputId": "d1f60b02-c28f-4fa8-bc53-5cbd72bf281a"
      },
      "source": [
        "d[5] = 100\n",
        "d"
      ],
      "execution_count": 59,
      "outputs": [
        {
          "output_type": "execute_result",
          "data": {
            "text/plain": [
              "[0, 1, 2, 3, 4, 100, 6, 7, 8, 9, 100, 11, 12, 13, 14]"
            ]
          },
          "metadata": {},
          "execution_count": 59
        }
      ]
    },
    {
      "cell_type": "code",
      "metadata": {
        "colab": {
          "base_uri": "https://localhost:8080/"
        },
        "id": "WXJUsR_Gn1H5",
        "outputId": "2d15f44c-65fa-4716-c7ca-4b1988c7e10d"
      },
      "source": [
        "a"
      ],
      "execution_count": 60,
      "outputs": [
        {
          "output_type": "execute_result",
          "data": {
            "text/plain": [
              "[0, 1, 2, 3, 4, 5, 6, 7, 8, 9, 100, 11, 12, 13, 14]"
            ]
          },
          "metadata": {},
          "execution_count": 60
        }
      ]
    },
    {
      "cell_type": "markdown",
      "metadata": {
        "id": "WKMp7HsQn-R5"
      },
      "source": [
        "## Slicing y negativos"
      ]
    },
    {
      "cell_type": "code",
      "metadata": {
        "colab": {
          "base_uri": "https://localhost:8080/"
        },
        "id": "F4s-F9dVn19w",
        "outputId": "5e0d0bfc-c7ce-4903-c6ac-b414d2f655ec"
      },
      "source": [
        "a[-1:-10]"
      ],
      "execution_count": 61,
      "outputs": [
        {
          "output_type": "execute_result",
          "data": {
            "text/plain": [
              "[]"
            ]
          },
          "metadata": {},
          "execution_count": 61
        }
      ]
    },
    {
      "cell_type": "code",
      "metadata": {
        "colab": {
          "base_uri": "https://localhost:8080/"
        },
        "id": "gnhMHOKboQRC",
        "outputId": "e3d90c3b-7b40-44c9-e6d9-2ef8bee97537"
      },
      "source": [
        "a[-10:-1]"
      ],
      "execution_count": 62,
      "outputs": [
        {
          "output_type": "execute_result",
          "data": {
            "text/plain": [
              "[5, 6, 7, 8, 9, 100, 11, 12, 13]"
            ]
          },
          "metadata": {},
          "execution_count": 62
        }
      ]
    },
    {
      "cell_type": "code",
      "metadata": {
        "colab": {
          "base_uri": "https://localhost:8080/"
        },
        "id": "Nd2orLdEoVHR",
        "outputId": "cff44dc4-e12c-4fa6-86ca-0a7fee273126"
      },
      "source": [
        "a[10:-2]"
      ],
      "execution_count": 63,
      "outputs": [
        {
          "output_type": "execute_result",
          "data": {
            "text/plain": [
              "[100, 11, 12]"
            ]
          },
          "metadata": {},
          "execution_count": 63
        }
      ]
    },
    {
      "cell_type": "code",
      "metadata": {
        "colab": {
          "base_uri": "https://localhost:8080/"
        },
        "id": "bPZa2KT1obsB",
        "outputId": "7d77a748-81e4-43c4-ac25-e5675ee7a94d"
      },
      "source": [
        "a[:-1]"
      ],
      "execution_count": 64,
      "outputs": [
        {
          "output_type": "execute_result",
          "data": {
            "text/plain": [
              "[0, 1, 2, 3, 4, 5, 6, 7, 8, 9, 100, 11, 12, 13]"
            ]
          },
          "metadata": {},
          "execution_count": 64
        }
      ]
    },
    {
      "cell_type": "code",
      "metadata": {
        "colab": {
          "base_uri": "https://localhost:8080/"
        },
        "id": "NEDjN0mcocm0",
        "outputId": "6b660cde-269d-4183-afea-3dea4cbf4e53"
      },
      "source": [
        "a[-1:]"
      ],
      "execution_count": 65,
      "outputs": [
        {
          "output_type": "execute_result",
          "data": {
            "text/plain": [
              "[14]"
            ]
          },
          "metadata": {},
          "execution_count": 65
        }
      ]
    },
    {
      "cell_type": "code",
      "metadata": {
        "colab": {
          "base_uri": "https://localhost:8080/"
        },
        "id": "Q-v7MxmWogXp",
        "outputId": "28e8debc-bc3d-49bb-ed5a-c790acb726b6"
      },
      "source": [
        "reversed(a)"
      ],
      "execution_count": 66,
      "outputs": [
        {
          "output_type": "execute_result",
          "data": {
            "text/plain": [
              "<list_reverseiterator at 0x7fae2feec810>"
            ]
          },
          "metadata": {},
          "execution_count": 66
        }
      ]
    },
    {
      "cell_type": "code",
      "metadata": {
        "colab": {
          "base_uri": "https://localhost:8080/"
        },
        "id": "UqwZRUzDomwK",
        "outputId": "d5ff100a-9754-4d70-b832-c51c73f3fc8a"
      },
      "source": [
        "list(reversed(a))"
      ],
      "execution_count": 69,
      "outputs": [
        {
          "output_type": "execute_result",
          "data": {
            "text/plain": [
              "[14, 13, 12, 11, 100, 9, 8, 7, 6, 5, 4, 3, 2, 1, 0]"
            ]
          },
          "metadata": {},
          "execution_count": 69
        }
      ]
    },
    {
      "cell_type": "code",
      "metadata": {
        "colab": {
          "base_uri": "https://localhost:8080/"
        },
        "id": "3WmXXTl8onHr",
        "outputId": "e733daba-13a9-4fd5-9cbf-ee2ec05f4733"
      },
      "source": [
        "a[-1:-10:-1]"
      ],
      "execution_count": 70,
      "outputs": [
        {
          "output_type": "execute_result",
          "data": {
            "text/plain": [
              "[14, 13, 12, 11, 100, 9, 8, 7, 6]"
            ]
          },
          "metadata": {},
          "execution_count": 70
        }
      ]
    },
    {
      "cell_type": "markdown",
      "metadata": {
        "id": "MBt4h4ybov1q"
      },
      "source": [
        "## Step slice"
      ]
    },
    {
      "cell_type": "code",
      "metadata": {
        "colab": {
          "base_uri": "https://localhost:8080/"
        },
        "id": "6x-CLtxQo5Uw",
        "outputId": "97a96df3-d2cd-4c3c-b123-08120a01d006"
      },
      "source": [
        "a[2:10:2]"
      ],
      "execution_count": 71,
      "outputs": [
        {
          "output_type": "execute_result",
          "data": {
            "text/plain": [
              "[2, 4, 6, 8]"
            ]
          },
          "metadata": {},
          "execution_count": 71
        }
      ]
    },
    {
      "cell_type": "code",
      "metadata": {
        "colab": {
          "base_uri": "https://localhost:8080/"
        },
        "id": "NcGCgYqco7Gg",
        "outputId": "f7ac8a7a-9d7c-4be6-ed00-12cacbfebdc8"
      },
      "source": [
        "for i in range(2, 10, 2):\n",
        "  print(i)"
      ],
      "execution_count": 72,
      "outputs": [
        {
          "output_type": "stream",
          "name": "stdout",
          "text": [
            "2\n",
            "4\n",
            "6\n",
            "8\n"
          ]
        }
      ]
    },
    {
      "cell_type": "code",
      "metadata": {
        "colab": {
          "base_uri": "https://localhost:8080/"
        },
        "id": "dcOEhRHfryxo",
        "outputId": "23576c55-aa08-4e3a-8e41-49e9566e7584"
      },
      "source": [
        "a[2:10:2]"
      ],
      "execution_count": 73,
      "outputs": [
        {
          "output_type": "execute_result",
          "data": {
            "text/plain": [
              "[2, 4, 6, 8]"
            ]
          },
          "metadata": {},
          "execution_count": 73
        }
      ]
    },
    {
      "cell_type": "code",
      "metadata": {
        "colab": {
          "base_uri": "https://localhost:8080/"
        },
        "id": "dq6BB5h5r1RY",
        "outputId": "ee19bfed-9513-4d23-8181-f59336ba2613"
      },
      "source": [
        "a[10:5:-1]"
      ],
      "execution_count": 74,
      "outputs": [
        {
          "output_type": "execute_result",
          "data": {
            "text/plain": [
              "[100, 9, 8, 7, 6]"
            ]
          },
          "metadata": {},
          "execution_count": 74
        }
      ]
    },
    {
      "cell_type": "code",
      "metadata": {
        "id": "QK2BltnEr5MY"
      },
      "source": [
        ""
      ],
      "execution_count": null,
      "outputs": []
    }
  ]
}